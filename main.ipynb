{
 "cells": [
  {
   "cell_type": "code",
   "execution_count": 1,
   "metadata": {},
   "outputs": [
    {
     "name": "stderr",
     "output_type": "stream",
     "text": [
      "ffmpeg version 5.1.1 Copyright (c) 2000-2022 the FFmpeg developers\n",
      "  built with Apple clang version 14.0.0 (clang-1400.0.29.102)\n",
      "  configuration: --prefix=/opt/homebrew/Cellar/ffmpeg/5.1.1_1 --enable-shared --enable-pthreads --enable-version3 --cc=clang --host-cflags= --host-ldflags= --enable-ffplay --enable-gnutls --enable-gpl --enable-libaom --enable-libbluray --enable-libdav1d --enable-libmp3lame --enable-libopus --enable-librav1e --enable-librist --enable-librubberband --enable-libsnappy --enable-libsrt --enable-libtesseract --enable-libtheora --enable-libvidstab --enable-libvmaf --enable-libvorbis --enable-libvpx --enable-libwebp --enable-libx264 --enable-libx265 --enable-libxml2 --enable-libxvid --enable-lzma --enable-libfontconfig --enable-libfreetype --enable-frei0r --enable-libass --enable-libopencore-amrnb --enable-libopencore-amrwb --enable-libopenjpeg --enable-libspeex --enable-libsoxr --enable-libzmq --enable-libzimg --disable-libjack --disable-indev=jack --enable-videotoolbox --enable-neon\n",
      "  libavutil      57. 28.100 / 57. 28.100\n",
      "  libavcodec     59. 37.100 / 59. 37.100\n",
      "  libavformat    59. 27.100 / 59. 27.100\n",
      "  libavdevice    59.  7.100 / 59.  7.100\n",
      "  libavfilter     8. 44.100 /  8. 44.100\n",
      "  libswscale      6.  7.100 /  6.  7.100\n",
      "  libswresample   4.  7.100 /  4.  7.100\n",
      "  libpostproc    56.  6.100 / 56.  6.100\n",
      "[rawvideo @ 0x140634290] Estimating duration from bitrate, this may be inaccurate\n",
      "Input #0, rawvideo, from 'processing/output.yuv':\n",
      "  Duration: 00:00:02.56, start: 0.000000, bitrate: 194400 kb/s\n",
      "  Stream #0:0: Video: rawvideo (I420 / 0x30323449), yuv420p, 1080x600, 194400 kb/s, 25 tbr, 25 tbn\n",
      "Stream mapping:\n",
      "  Stream #0:0 -> #0:0 (rawvideo (native) -> h264 (libx264))\n",
      "Press [q] to stop, [?] for help\n",
      "[libx264 @ 0x140636a10] using cpu capabilities: ARMv8 NEON\n",
      "[libx264 @ 0x140636a10] profile High, level 3.1, 4:2:0, 8-bit\n",
      "[libx264 @ 0x140636a10] 264 - core 164 r3095 baee400 - H.264/MPEG-4 AVC codec - Copyleft 2003-2022 - http://www.videolan.org/x264.html - options: cabac=1 ref=3 deblock=1:0:0 analyse=0x3:0x113 me=hex subme=7 psy=1 psy_rd=1.00:0.00 mixed_ref=1 me_range=16 chroma_me=1 trellis=1 8x8dct=1 cqm=0 deadzone=21,11 fast_pskip=1 chroma_qp_offset=-2 threads=12 lookahead_threads=2 sliced_threads=0 nr=0 decimate=1 interlaced=0 bluray_compat=0 constrained_intra=0 bframes=3 b_pyramid=2 b_adapt=1 b_bias=0 direct=1 weightb=1 open_gop=0 weightp=2 keyint=250 keyint_min=25 scenecut=40 intra_refresh=0 rc_lookahead=40 rc=crf mbtree=1 crf=1.0 qcomp=0.60 qpmin=0 qpmax=69 qpstep=4 ip_ratio=1.40 aq=1:1.00\n",
      "Output #0, mp4, to 'processing/video1.mp4':\n",
      "  Metadata:\n",
      "    encoder         : Lavf59.27.100\n",
      "  Stream #0:0: Video: h264 (avc1 / 0x31637661), yuv420p(progressive), 1080x600, q=2-31, 25 fps, 12800 tbn\n",
      "    Metadata:\n",
      "      encoder         : Lavc59.37.100 libx264\n",
      "    Side data:\n",
      "      cpb: bitrate max/min/avg: 0/0/0 buffer size: 0 vbv_delay: N/A\n",
      "frame=   64 fps=0.0 q=-1.0 Lsize=    9167kB time=00:00:02.44 bitrate=30776.4kbits/s speed=2.77x    \n",
      "video:9165kB audio:0kB subtitle:0kB other streams:0kB global headers:0kB muxing overhead: 0.018294%\n",
      "[libx264 @ 0x140636a10] frame I:1     Avg QP: 2.95  size:222596\n",
      "[libx264 @ 0x140636a10] frame P:16    Avg QP: 2.90  size:222703\n",
      "[libx264 @ 0x140636a10] frame B:47    Avg QP: 4.98  size:119125\n",
      "[libx264 @ 0x140636a10] consecutive B-frames:  1.6%  0.0%  4.7% 93.8%\n",
      "[libx264 @ 0x140636a10] mb I  I16..4: 22.9% 20.9% 56.2%\n",
      "[libx264 @ 0x140636a10] mb P  I16..4:  3.4% 10.3% 29.0%  P16..4: 11.2% 16.6% 12.2%  0.0%  0.0%    skip:17.1%\n",
      "[libx264 @ 0x140636a10] mb B  I16..4:  0.6%  2.1%  6.3%  B16..8: 18.5% 14.6% 13.6%  direct:21.6%  skip:22.7%  L0:35.3% L1:33.9% BI:30.8%\n",
      "[libx264 @ 0x140636a10] 8x8 transform intra:23.6% inter:33.7%\n",
      "[libx264 @ 0x140636a10] coded y,uvDC,uvAC intra: 93.1% 87.7% 87.2% inter: 69.0% 51.7% 49.1%\n",
      "[libx264 @ 0x140636a10] i16 v,h,dc,p: 37% 12% 28% 23%\n",
      "[libx264 @ 0x140636a10] i8 v,h,dc,ddl,ddr,vr,hd,vl,hu: 23% 13% 18%  6%  8%  8%  7%  9%  8%\n",
      "[libx264 @ 0x140636a10] i4 v,h,dc,ddl,ddr,vr,hd,vl,hu: 22% 15% 14%  6% 10%  9%  8%  8%  8%\n",
      "[libx264 @ 0x140636a10] i8c dc,h,v,p: 51% 17% 24%  7%\n",
      "[libx264 @ 0x140636a10] Weighted P-Frames: Y:0.0% UV:0.0%\n",
      "[libx264 @ 0x140636a10] ref P L0: 66.0% 19.4% 10.2%  4.4%\n",
      "[libx264 @ 0x140636a10] ref B L0: 90.2%  8.4%  1.4%\n",
      "[libx264 @ 0x140636a10] ref B L1: 97.0%  3.0%\n",
      "[libx264 @ 0x140636a10] kb/s:29327.21\n"
     ]
    }
   ],
   "source": [
    "from library import createVideo\n",
    "\n",
    "createVideo('data/A1.yuv', 'data/B1.yuv', (512,512), (512,512), 64, outputName='video1')"
   ]
  },
  {
   "cell_type": "code",
   "execution_count": null,
   "metadata": {},
   "outputs": [],
   "source": []
  }
 ],
 "metadata": {
  "kernelspec": {
   "display_name": "subPlatform",
   "language": "python",
   "name": "python3"
  },
  "language_info": {
   "codemirror_mode": {
    "name": "ipython",
    "version": 3
   },
   "file_extension": ".py",
   "mimetype": "text/x-python",
   "name": "python",
   "nbconvert_exporter": "python",
   "pygments_lexer": "ipython3",
   "version": "3.10.9"
  },
  "orig_nbformat": 4
 },
 "nbformat": 4,
 "nbformat_minor": 2
}
